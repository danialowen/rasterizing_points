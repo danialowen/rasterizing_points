{
 "cells": [
  {
   "cell_type": "markdown",
   "id": "d6575aa0-8a67-4848-928c-48e1d08de487",
   "metadata": {},
   "source": [
    "## Import libraries"
   ]
  },
  {
   "cell_type": "code",
   "execution_count": 22,
   "id": "132ef96f-773d-46ee-b0ae-1f1e0283c61b",
   "metadata": {},
   "outputs": [],
   "source": [
    "import pandas as pd\n",
    "import geopandas as gpd\n",
    "import numpy as np\n",
    "import matplotlib.pyplot as plt\n",
    "import rasterio\n",
    "from rasterio import features\n",
    "from rasterio.plot import show"
   ]
  },
  {
   "cell_type": "markdown",
   "id": "96c47bbe-5fe6-4a07-80e6-092ec48a57ca",
   "metadata": {},
   "source": [
    "## Import your data"
   ]
  },
  {
   "cell_type": "code",
   "execution_count": 15,
   "id": "b4a3d761-6099-401c-adf8-2da93eeff071",
   "metadata": {},
   "outputs": [
    {
     "data": {
      "text/plain": [
       "{'driver': 'GTiff', 'dtype': 'float32', 'nodata': -3.4028234663852886e+38, 'width': 90, 'height': 90, 'count': 1, 'crs': CRS.from_epsg(4326), 'transform': Affine(0.011108398433333331, 0.0, -1.049987793,\n",
       "       0.0, -0.011112213133333328, 52.500097275), 'blockysize': 22, 'tiled': False, 'interleave': 'band'}"
      ]
     },
     "execution_count": 15,
     "metadata": {},
     "output_type": "execute_result"
    }
   ],
   "source": [
    "# Import you reference raster - you want this to define the extent and resolution of the raster you are going to create later\n",
    "ref_ras = rasterio.open(\"ref_raster.tif\")\n",
    "\n",
    "# explore the profile of the raster file\n",
    "ref_ras.profile"
   ]
  },
  {
   "cell_type": "code",
   "execution_count": 16,
   "id": "1d1d77f9-fa19-418c-9f2f-7a95cd7b665b",
   "metadata": {},
   "outputs": [
    {
     "data": {
      "text/html": [
       "<div>\n",
       "<style scoped>\n",
       "    .dataframe tbody tr th:only-of-type {\n",
       "        vertical-align: middle;\n",
       "    }\n",
       "\n",
       "    .dataframe tbody tr th {\n",
       "        vertical-align: top;\n",
       "    }\n",
       "\n",
       "    .dataframe thead th {\n",
       "        text-align: right;\n",
       "    }\n",
       "</style>\n",
       "<table border=\"1\" class=\"dataframe\">\n",
       "  <thead>\n",
       "    <tr style=\"text-align: right;\">\n",
       "      <th></th>\n",
       "      <th>Species</th>\n",
       "      <th>Point_val</th>\n",
       "      <th>geometry</th>\n",
       "    </tr>\n",
       "  </thead>\n",
       "  <tbody>\n",
       "    <tr>\n",
       "      <th>0</th>\n",
       "      <td>A</td>\n",
       "      <td>10</td>\n",
       "      <td>POINT (-0.81772 52.25854)</td>\n",
       "    </tr>\n",
       "    <tr>\n",
       "      <th>1</th>\n",
       "      <td>A</td>\n",
       "      <td>11</td>\n",
       "      <td>POINT (-0.81759 52.25819)</td>\n",
       "    </tr>\n",
       "    <tr>\n",
       "      <th>2</th>\n",
       "      <td>B</td>\n",
       "      <td>2</td>\n",
       "      <td>POINT (-0.81725 52.25817)</td>\n",
       "    </tr>\n",
       "    <tr>\n",
       "      <th>3</th>\n",
       "      <td>C</td>\n",
       "      <td>3</td>\n",
       "      <td>POINT (-0.81744 52.25841)</td>\n",
       "    </tr>\n",
       "    <tr>\n",
       "      <th>4</th>\n",
       "      <td>A</td>\n",
       "      <td>4</td>\n",
       "      <td>POINT (-0.81153 52.25519)</td>\n",
       "    </tr>\n",
       "  </tbody>\n",
       "</table>\n",
       "</div>"
      ],
      "text/plain": [
       "  Species  Point_val                   geometry\n",
       "0       A         10  POINT (-0.81772 52.25854)\n",
       "1       A         11  POINT (-0.81759 52.25819)\n",
       "2       B          2  POINT (-0.81725 52.25817)\n",
       "3       C          3  POINT (-0.81744 52.25841)\n",
       "4       A          4  POINT (-0.81153 52.25519)"
      ]
     },
     "execution_count": 16,
     "metadata": {},
     "output_type": "execute_result"
    }
   ],
   "source": [
    "# import your point dataset\n",
    "point_df = gpd.read_file(\"points_df.gpkg\")\n",
    "\n",
    "# preview your data\n",
    "point_df.head()"
   ]
  },
  {
   "cell_type": "markdown",
   "id": "a6de7867-2388-4842-afd6-c9c3d076a46c",
   "metadata": {},
   "source": [
    "## Create a simple binary of where points are"
   ]
  },
  {
   "cell_type": "code",
   "execution_count": 17,
   "id": "305d4ccb-4521-4f29-ba61-5cf31ec6cbb4",
   "metadata": {},
   "outputs": [
    {
     "name": "stdout",
     "output_type": "stream",
     "text": [
      "CPU times: total: 0 ns\n",
      "Wall time: 7.14 ms\n"
     ]
    }
   ],
   "source": [
    "%%time\n",
    "### Rasterise your points layer\n",
    "\n",
    "# Get list of geometries from points layer\n",
    "geom = [geom for geom in point_df.geometry]\n",
    "\n",
    "# Rasterize the layer (binary) and fill any non-point cells with 0\n",
    "# out_shape defines the nubmer of rows and columns in your raster file, and transform defines the extent and resolution\n",
    "binary_rast = features.rasterize(geom, out_shape=ref_ras.shape, transform=ref_ras.transform, fill=0)"
   ]
  },
  {
   "cell_type": "code",
   "execution_count": 25,
   "id": "8e09af21-d9f3-462d-92e7-7495a492ab9b",
   "metadata": {},
   "outputs": [
    {
     "data": {
      "image/png": "[encoded data removed]",
      "text/plain": [
       "<Figure size 640x480 with 2 Axes>"
      ]
     },
     "metadata": {},
     "output_type": "display_data"
    }
   ],
   "source": [
    "f, ax = plt.subplots(1)\n",
    "plot_1 = show(binary_rast, ax=ax)\n",
    "im = plot_1.get_images()[0]\n",
    "f.colorbar(im, ax=ax);"
   ]
  },
  {
   "cell_type": "markdown",
   "id": "b9f05a31-fdc1-47ee-a167-a685212b8c78",
   "metadata": {},
   "source": [
    "## Calculate the count of points in each pixel"
   ]
  },
  {
   "cell_type": "code",
   "execution_count": 28,
   "id": "1e655397-facf-4725-ae4d-abcfa8f61b47",
   "metadata": {},
   "outputs": [
    {
     "name": "stdout",
     "output_type": "stream",
     "text": [
      "CPU times: total: 0 ns\n",
      "Wall time: 5.05 ms\n"
     ]
    }
   ],
   "source": [
    "%%time\n",
    "### Rasterise your points layer\n",
    "\n",
    "# Get list of geometries from points layer\n",
    "geom = [geom for geom in point_df.geometry]\n",
    "\n",
    "# Rasterize the layer (binary) and fill any non-point cells with 0\n",
    "# out_shape defines the nubmer of rows and columns in your raster file, and transform defines the extent and resolution\n",
    "count_rast = features.rasterize(geom, out_shape=ref_ras.shape, transform=ref_ras.transform, fill=0, merge_alg=rasterio.enums.MergeAlg.add)"
   ]
  },
  {
   "cell_type": "code",
   "execution_count": 29,
   "id": "4c1ba9e7-0fca-4a97-b992-838de372968d",
   "metadata": {},
   "outputs": [
    {
     "data": {
      "image/png": "[encoded data removed]",
      "text/plain": [
       "<Figure size 640x480 with 2 Axes>"
      ]
     },
     "metadata": {},
     "output_type": "display_data"
    }
   ],
   "source": [
    "f, ax = plt.subplots(1)\n",
    "plot_1 = show(count_rast, ax=ax)\n",
    "im = plot_1.get_images()[0]\n",
    "f.colorbar(im, ax=ax);"
   ]
  },
  {
   "cell_type": "markdown",
   "id": "967a8168-95f7-4e8e-a6fb-27dc86423f5b",
   "metadata": {},
   "source": [
    "## Calculate the sum the value of all points in each pixel "
   ]
  },
  {
   "cell_type": "code",
   "execution_count": 32,
   "id": "8b14cdd2-7881-48ca-9f67-7996d7792b15",
   "metadata": {},
   "outputs": [
    {
     "name": "stdout",
     "output_type": "stream",
     "text": [
      "CPU times: total: 0 ns\n",
      "Wall time: 2 ms\n"
     ]
    }
   ],
   "source": [
    "%%time\n",
    "# Get list of geometries and population values from vector layer\n",
    "geom = [geom for geom in point_df.geometry]\n",
    "point_values = point_df['Point_val'].tolist()\n",
    "\n",
    "# Create a generator of (geometry, value) pairs\n",
    "shapes = ((geom, value) for geom, value in zip(geom, point_values))\n",
    "\n",
    "# Rasterize the Pop layer and sum population values within each cell\n",
    "Sum_Rast = features.rasterize(shapes=shapes, out_shape=ref_ras.shape, transform=ref_ras.transform, fill=0, merge_alg=rasterio.enums.MergeAlg.add)"
   ]
  },
  {
   "cell_type": "code",
   "execution_count": 33,
   "id": "b6b04231-03bc-4e56-865d-d841b06a5f74",
   "metadata": {},
   "outputs": [
    {
     "data": {
      "image/png": "[encoded data removed]",
      "text/plain": [
       "<Figure size 640x480 with 2 Axes>"
      ]
     },
     "metadata": {},
     "output_type": "display_data"
    }
   ],
   "source": [
    "f, ax = plt.subplots(1)\n",
    "plot_1 = show(Sum_Rast, ax=ax)\n",
    "im = plot_1.get_images()[0]\n",
    "f.colorbar(im, ax=ax);"
   ]
  },
  {
   "cell_type": "markdown",
   "id": "2ec72c75-98ea-492d-9239-3926b2b65b42",
   "metadata": {},
   "source": [
    "## Save file\n"
   ]
  },
  {
   "cell_type": "code",
   "execution_count": null,
   "id": "8215038d-31e3-4bff-916a-0800e1f05266",
   "metadata": {},
   "outputs": [],
   "source": [
    "# copy the profile of the reference raster\n",
    "profile_copy = ref_ras.profile.copy()\n",
    "\n",
    "# save file \n",
    "with rasterio.open(\"output_file_name.tif\", 'w', **profile_copy) as dst:\n",
    "     dst.write(the_variable_you_want_to_save, 1)"
   ]
  }
 ],
 "metadata": {
  "kernelspec": {
   "display_name": "Python 3 (ipykernel)",
   "language": "python",
   "name": "python3"
  },
  "language_info": {
   "codemirror_mode": {
    "name": "ipython",
    "version": 3
   },
   "file_extension": ".py",
   "mimetype": "text/x-python",
   "name": "python",
   "nbconvert_exporter": "python",
   "pygments_lexer": "ipython3",
   "version": "3.12.8"
  }
 },
 "nbformat": 4,
 "nbformat_minor": 5
}
